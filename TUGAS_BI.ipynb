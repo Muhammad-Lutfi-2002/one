{
  "nbformat": 4,
  "nbformat_minor": 0,
  "metadata": {
    "colab": {
      "provenance": [],
      "authorship_tag": "ABX9TyPDFkyyqboaDbE6T0QrI3vg",
      "include_colab_link": true
    },
    "kernelspec": {
      "name": "python3",
      "display_name": "Python 3"
    },
    "language_info": {
      "name": "python"
    }
  },
  "cells": [
    {
      "cell_type": "markdown",
      "metadata": {
        "id": "view-in-github",
        "colab_type": "text"
      },
      "source": [
        "<a href=\"https://colab.research.google.com/github/Muhammad-Lutfi-2002/one/blob/main/TUGAS_BI.ipynb\" target=\"_parent\"><img src=\"https://colab.research.google.com/assets/colab-badge.svg\" alt=\"Open In Colab\"/></a>"
      ]
    },
    {
      "cell_type": "code",
      "execution_count": 1,
      "metadata": {
        "colab": {
          "base_uri": "https://localhost:8080/"
        },
        "id": "_KvaBPC62ksp",
        "outputId": "c72aa90a-3a58-4ab3-d7cd-0adc9ac8dc8e"
      },
      "outputs": [
        {
          "output_type": "stream",
          "name": "stdout",
          "text": [
            "Data Penjualan:\n",
            "  sale_id product_id customer_id   sale_date  quantity  sale_price\n",
            "0    S001       P007        C001  2024-04-08         6   268676.00\n",
            "1    S002       P020        C002  2024-06-20         7   524233.71\n",
            "2    S003       P015        C003  2024-12-25         4   593403.99\n",
            "3    S004       P011        C004  2024-08-01         7   780126.31\n",
            "4    S005       P008        C005  2024-02-04         8    91423.58\n",
            "\n",
            "Data Pelanggan:\n",
            "  customer_id  age  gender      city membership_date\n",
            "0        C001   64  Wanita   Bandung      2024-06-01\n",
            "1        C002   47    Pria  Semarang      2024-04-20\n",
            "2        C003   63    Pria  Semarang      2024-12-09\n",
            "3        C004   22    Pria  Surabaya      2024-10-06\n",
            "4        C005   29    Pria     Medan      2024-03-12\n",
            "\n",
            "Data Produk:\n",
            "  product_id    category  base_price  stock\n",
            "0       P001   Perabotan   493931.34     37\n",
            "1       P002  Elektronik   789555.32    723\n",
            "2       P003   Kesehatan   447808.89     48\n",
            "3       P004     Fashion   742271.74    962\n",
            "4       P005     Fashion   219448.57    282\n",
            "\n",
            "Data Pemasaran:\n",
            "  campaign_id       channel  start_date    end_date        cost\n",
            "0        M001         Email  2024-03-18  2024-11-23  9810382.92\n",
            "1        M002   Display Ads  2024-03-02  2024-05-06  8558099.74\n",
            "2        M003         Email  2024-05-11  2024-04-15  8802943.84\n",
            "3        M004  Social Media  2024-03-29  2024-04-01  4671860.46\n",
            "4        M005   Display Ads  2024-08-24  2024-10-13  5965503.36\n",
            "\n",
            "Data Browsing:\n",
            "  browse_id customer_id product_id  visit_date  duration_seconds\n",
            "0      B001        C001       P015  2024-09-07               179\n",
            "1      B002        C002       P020  2024-09-03               530\n",
            "2      B003        C003       P019  2024-09-25              1496\n",
            "3      B004        C004       P003  2024-05-20                49\n",
            "4      B005        C005       P020  2024-09-30              1570\n"
          ]
        }
      ],
      "source": [
        "import pandas as pd\n",
        "import numpy as np\n",
        "from datetime import datetime, timedelta\n",
        "import random\n",
        "\n",
        "# Set random seed untuk reproduktifitas\n",
        "np.random.seed(42)\n",
        "\n",
        "# Generate data penjualan\n",
        "def generate_sales_data(n_rows=100):\n",
        "    product_ids = [f'P{i:03d}' for i in range(1, 21)]  # 20 produk\n",
        "\n",
        "    sales_data = {\n",
        "        'sale_id': [f'S{i:03d}' for i in range(1, n_rows + 1)],\n",
        "        'product_id': np.random.choice(product_ids, n_rows),\n",
        "        'customer_id': [f'C{i:03d}' for i in range(1, n_rows + 1)],\n",
        "        'sale_date': [(datetime(2024, 1, 1) + timedelta(days=np.random.randint(0, 365))).strftime('%Y-%m-%d') for _ in range(n_rows)],\n",
        "        'quantity': np.random.randint(1, 10, n_rows),\n",
        "        'sale_price': np.random.uniform(50000, 1000000, n_rows).round(2)\n",
        "    }\n",
        "\n",
        "    return pd.DataFrame(sales_data)\n",
        "\n",
        "# Generate data pelanggan\n",
        "def generate_customer_data(n_rows=100):\n",
        "    cities = ['Jakarta', 'Surabaya', 'Bandung', 'Medan', 'Semarang']\n",
        "\n",
        "    customer_data = {\n",
        "        'customer_id': [f'C{i:03d}' for i in range(1, n_rows + 1)],\n",
        "        'age': np.random.randint(18, 65, n_rows),\n",
        "        'gender': np.random.choice(['Pria', 'Wanita'], n_rows),\n",
        "        'city': np.random.choice(cities, n_rows),\n",
        "        'membership_date': [(datetime(2023, 1, 1) + timedelta(days=np.random.randint(0, 730))).strftime('%Y-%m-%d') for _ in range(n_rows)]\n",
        "    }\n",
        "\n",
        "    return pd.DataFrame(customer_data)\n",
        "\n",
        "# Generate data produk\n",
        "def generate_product_data(n_products=20):\n",
        "    categories = ['Elektronik', 'Fashion', 'Makanan', 'Kesehatan', 'Perabotan']\n",
        "\n",
        "    product_data = {\n",
        "        'product_id': [f'P{i:03d}' for i in range(1, n_products + 1)],\n",
        "        'category': np.random.choice(categories, n_products),\n",
        "        'base_price': np.random.uniform(40000, 800000, n_products).round(2),\n",
        "        'stock': np.random.randint(10, 1000, n_products)\n",
        "    }\n",
        "\n",
        "    return pd.DataFrame(product_data)\n",
        "\n",
        "# Generate data pemasaran\n",
        "def generate_marketing_data(n_rows=100):\n",
        "    channels = ['Social Media', 'Email', 'Search Ads', 'Display Ads', 'Affiliate']\n",
        "\n",
        "    marketing_data = {\n",
        "        'campaign_id': [f'M{i:03d}' for i in range(1, n_rows + 1)],\n",
        "        'channel': np.random.choice(channels, n_rows),\n",
        "        'start_date': [(datetime(2024, 1, 1) + timedelta(days=np.random.randint(0, 365))).strftime('%Y-%m-%d') for _ in range(n_rows)],\n",
        "        'end_date': [(datetime(2024, 1, 1) + timedelta(days=np.random.randint(0, 365))).strftime('%Y-%m-%d') for _ in range(n_rows)],\n",
        "        'cost': np.random.uniform(1000000, 10000000, n_rows).round(2)\n",
        "    }\n",
        "\n",
        "    return pd.DataFrame(marketing_data)\n",
        "\n",
        "# Generate data browsing\n",
        "def generate_browsing_data(n_rows=100):\n",
        "    browsing_data = {\n",
        "        'browse_id': [f'B{i:03d}' for i in range(1, n_rows + 1)],\n",
        "        'customer_id': [f'C{i:03d}' for i in range(1, n_rows + 1)],\n",
        "        'product_id': [f'P{str(np.random.randint(1, 21)).zfill(3)}' for _ in range(n_rows)],\n",
        "        'visit_date': [(datetime(2024, 1, 1) + timedelta(days=np.random.randint(0, 365))).strftime('%Y-%m-%d') for _ in range(n_rows)],\n",
        "        'duration_seconds': np.random.randint(10, 3600, n_rows)\n",
        "    }\n",
        "\n",
        "    return pd.DataFrame(browsing_data)\n",
        "\n",
        "# Membuat dataset\n",
        "sales_df = generate_sales_data()\n",
        "customer_df = generate_customer_data()\n",
        "product_df = generate_product_data()\n",
        "marketing_df = generate_marketing_data()\n",
        "browsing_df = generate_browsing_data()\n",
        "\n",
        "# Menampilkan hasil\n",
        "print(\"Data Penjualan:\")\n",
        "print(sales_df.head())\n",
        "print(\"\\nData Pelanggan:\")\n",
        "print(customer_df.head())\n",
        "print(\"\\nData Produk:\")\n",
        "print(product_df.head())\n",
        "print(\"\\nData Pemasaran:\")\n",
        "print(marketing_df.head())\n",
        "print(\"\\nData Browsing:\")\n",
        "print(browsing_df.head())\n",
        "\n",
        "# Menyimpan dataset ke CSV (opsional)\n",
        "sales_df.to_csv('sales_data.csv', index=False)\n",
        "customer_df.to_csv('customer_data.csv', index=False)\n",
        "product_df.to_csv('product_data.csv', index=False)\n",
        "marketing_df.to_csv('marketing_data.csv', index=False)\n",
        "browsing_df.to_csv('browsing_data.csv', index=False)"
      ]
    },
    {
      "cell_type": "code",
      "source": [
        "import pandas as pd\n",
        "import numpy as np\n",
        "from sklearn.model_selection import train_test_split, cross_val_score\n",
        "from sklearn.preprocessing import StandardScaler, LabelEncoder\n",
        "from sklearn.linear_model import LinearRegression, Ridge, Lasso\n",
        "from sklearn.tree import DecisionTreeRegressor\n",
        "from sklearn.ensemble import RandomForestRegressor\n",
        "from sklearn.metrics import mean_squared_error, r2_score, mean_absolute_error\n",
        "import matplotlib.pyplot as plt\n",
        "import seaborn as sns"
      ],
      "metadata": {
        "id": "KAF7MibU3gcR"
      },
      "execution_count": 2,
      "outputs": []
    },
    {
      "cell_type": "markdown",
      "source": [
        "# 1. Data Preparation dan Preprocessing"
      ],
      "metadata": {
        "id": "tsL-jspy3nbe"
      }
    },
    {
      "cell_type": "code",
      "source": [
        "\n",
        "\n",
        "    # Membaca dataset\n",
        "sales_df = pd.read_csv('sales_data.csv')\n",
        "customer_df = pd.read_csv('customer_data.csv')\n",
        "product_df = pd.read_csv('product_data.csv')\n",
        "marketing_df = pd.read_csv('marketing_data.csv')\n",
        "browsing_df = pd.read_csv('browsing_data.csv')\n",
        "\n",
        "    # Menggabungkan dataset\n",
        "df = sales_df.merge(customer_df, on='customer_id')\n",
        "df = df.merge(product_df, on='product_id')\n",
        "\n",
        "    # Konversi tanggal\n",
        "df['sale_date'] = pd.to_datetime(df['sale_date'])\n",
        "df['membership_date'] = pd.to_datetime(df['membership_date'])\n",
        "\n",
        "    # Feature Engineering\n",
        "df['customer_age'] = df['age']\n",
        "df['total_sale'] = df['quantity'] * df['sale_price']\n",
        "df['month'] = df['sale_date'].dt.month\n",
        "df['day_of_week'] = df['sale_date'].dt.dayofweek\n",
        "\n",
        "    # Label Encoding untuk variabel kategorikal\n",
        "le = LabelEncoder()\n",
        "df['gender_encoded'] = le.fit_transform(df['gender'])\n",
        "df['city_encoded'] = le.fit_transform(df['city'])\n",
        "df['category_encoded'] = le.fit_transform(df['category'])\n",
        "\n"
      ],
      "metadata": {
        "id": "_nnZzG-c3h_7"
      },
      "execution_count": 5,
      "outputs": []
    },
    {
      "cell_type": "markdown",
      "source": [
        "# 2. Model Training dan Evaluasi"
      ],
      "metadata": {
        "id": "63UE4vYd3vyU"
      }
    },
    {
      "cell_type": "code",
      "source": [
        "def train_and_evaluate_models(df):\n",
        "    # Menyiapkan feature dan target\n",
        "    features = ['customer_age', 'gender_encoded', 'city_encoded', 'category_encoded',\n",
        "                'base_price', 'month', 'day_of_week', 'quantity']\n",
        "    target = 'total_sale'\n",
        "\n",
        "    X = df[features]\n",
        "    y = df[target]\n",
        "\n",
        "    # Split data\n",
        "    X_train, X_test, y_train, y_test = train_test_split(X, y, test_size=0.2, random_state=42)\n",
        "\n",
        "    # Scaling features\n",
        "    scaler = StandardScaler()\n",
        "    X_train_scaled = scaler.fit_transform(X_train)\n",
        "    X_test_scaled = scaler.transform(X_test)\n",
        "\n",
        "    # Dictionary untuk menyimpan model dan hasil\n",
        "    models = {\n",
        "        'Linear Regression': LinearRegression(),\n",
        "        'Ridge Regression': Ridge(),\n",
        "        'Lasso Regression': Lasso(),\n",
        "        'Decision Tree': DecisionTreeRegressor(),\n",
        "        'Random Forest': RandomForestRegressor()\n",
        "    }\n",
        "\n",
        "    results = {}\n",
        "\n",
        "    for name, model in models.items():\n",
        "        # Train model\n",
        "        model.fit(X_train_scaled, y_train)\n",
        "\n",
        "        # Predictions\n",
        "        y_pred = model.predict(X_test_scaled)\n",
        "\n",
        "        # Evaluate\n",
        "        results[name] = {\n",
        "            'MSE': mean_squared_error(y_test, y_pred),\n",
        "            'RMSE': np.sqrt(mean_squared_error(y_test, y_pred)),\n",
        "            'MAE': mean_absolute_error(y_test, y_pred),\n",
        "            'R2': r2_score(y_test, y_pred)\n",
        "        }\n",
        "\n",
        "    return models, results, X_train_scaled, X_test_scaled, y_train, y_test"
      ],
      "metadata": {
        "id": "1b1b5MXW3tuF"
      },
      "execution_count": 6,
      "outputs": []
    },
    {
      "cell_type": "code",
      "source": [
        "# 3. Feature Importance Analysis (untuk Random Forest)\n",
        "def analyze_feature_importance(model, features):\n",
        "    importance = model.feature_importances_\n",
        "    feat_importance = pd.DataFrame({\n",
        "        'Feature': features,\n",
        "        'Importance': importance\n",
        "    })\n",
        "    return feat_importance.sort_values('Importance', ascending=False)"
      ],
      "metadata": {
        "id": "ZfJ-JTmS4HIb"
      },
      "execution_count": 7,
      "outputs": []
    },
    {
      "cell_type": "code",
      "source": [
        "# Menjalankan analisis\n",
        "df = prepare_data()\n",
        "models, results, X_train_scaled, X_test_scaled, y_train, y_test = train_and_evaluate_models(df)\n",
        "\n",
        "# Menampilkan hasil evaluasi\n",
        "print(\"\\nModel Evaluation Results:\")\n",
        "for model_name, metrics in results.items():\n",
        "    print(f\"\\n{model_name}:\")\n",
        "    for metric_name, value in metrics.items():\n",
        "        print(f\"{metric_name}: {value:.4f}\")"
      ],
      "metadata": {
        "colab": {
          "base_uri": "https://localhost:8080/"
        },
        "id": "sTPa76qT4IfE",
        "outputId": "514ff10e-0eaa-4544-ceb4-e4820b05ca97"
      },
      "execution_count": 8,
      "outputs": [
        {
          "output_type": "stream",
          "name": "stdout",
          "text": [
            "\n",
            "Model Evaluation Results:\n",
            "\n",
            "Linear Regression:\n",
            "MSE: 2554695927978.1963\n",
            "RMSE: 1598341.6180\n",
            "MAE: 1325168.9247\n",
            "R2: 0.1376\n",
            "\n",
            "Ridge Regression:\n",
            "MSE: 2538322024198.9839\n",
            "RMSE: 1593211.2303\n",
            "MAE: 1321380.7277\n",
            "R2: 0.1431\n",
            "\n",
            "Lasso Regression:\n",
            "MSE: 2554692095575.5464\n",
            "RMSE: 1598340.4192\n",
            "MAE: 1325168.0130\n",
            "R2: 0.1376\n",
            "\n",
            "Decision Tree:\n",
            "MSE: 3278916701213.9375\n",
            "RMSE: 1810777.9271\n",
            "MAE: 1480249.5700\n",
            "R2: -0.1069\n",
            "\n",
            "Random Forest:\n",
            "MSE: 2109200260635.6450\n",
            "RMSE: 1452308.5969\n",
            "MAE: 1227608.1347\n",
            "R2: 0.2880\n"
          ]
        }
      ]
    },
    {
      "cell_type": "code",
      "source": [
        "# Analisis Feature Importance untuk Random Forest\n",
        "rf_model = models['Random Forest']\n",
        "features = ['customer_age', 'gender_encoded', 'city_encoded', 'category_encoded',\n",
        "           'base_price', 'month', 'day_of_week', 'quantity']\n",
        "feature_importance = analyze_feature_importance(rf_model, features)\n",
        "print(\"\\nFeature Importance:\")\n",
        "print(feature_importance)\n"
      ],
      "metadata": {
        "colab": {
          "base_uri": "https://localhost:8080/"
        },
        "id": "LUeHwZsD4OB1",
        "outputId": "b39e8835-9f57-4603-dd9b-f1e5ae2ef106"
      },
      "execution_count": 9,
      "outputs": [
        {
          "output_type": "stream",
          "name": "stdout",
          "text": [
            "\n",
            "Feature Importance:\n",
            "            Feature  Importance\n",
            "7          quantity    0.499965\n",
            "4        base_price    0.122686\n",
            "5             month    0.118434\n",
            "0      customer_age    0.079637\n",
            "2      city_encoded    0.074692\n",
            "6       day_of_week    0.066427\n",
            "3  category_encoded    0.025562\n",
            "1    gender_encoded    0.012598\n"
          ]
        }
      ]
    },
    {
      "cell_type": "code",
      "source": [
        "# Visualisasi hasil\n",
        "plt.figure(figsize=(10, 6))\n",
        "plt.bar(feature_importance['Feature'], feature_importance['Importance'])\n",
        "plt.xticks(rotation=45)\n",
        "plt.title('Feature Importance in Random Forest Model')\n",
        "plt.tight_layout()\n",
        "plt.show()"
      ],
      "metadata": {
        "colab": {
          "base_uri": "https://localhost:8080/",
          "height": 607
        },
        "id": "pBL-2VL34PkC",
        "outputId": "de3aa708-793c-4602-8a35-d74fbd018d66"
      },
      "execution_count": 10,
      "outputs": [
        {
          "output_type": "display_data",
          "data": {
            "text/plain": [
              "<Figure size 1000x600 with 1 Axes>"
            ],
            "image/png": "[encoded data removed]"
          },
          "metadata": {}
        }
      ]
    }
  ]
}